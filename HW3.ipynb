{
 "cells": [
  {
   "cell_type": "markdown",
   "metadata": {},
   "source": [
    "1. Прочитайте базу my_PJME_MW.csv и сделайте ее перрасчет (ресемплинг) в представление по 1 месяцу."
   ]
  },
  {
   "cell_type": "markdown",
   "metadata": {},
   "source": [
    "2. Подберите параметры модели SARIMAX для этого ряда."
   ]
  },
  {
   "cell_type": "markdown",
   "metadata": {},
   "source": [
    "3. Сделайте вывод о том, как изменилась модель по сравнению с недельной."
   ]
  },
  {
   "cell_type": "code",
   "execution_count": 1,
   "metadata": {},
   "outputs": [],
   "source": [
    "%matplotlib inline\n",
    "import matplotlib.pyplot as plt\n",
    "\n",
    "import numpy as np\n",
    "import pandas as pd \n",
    "import seaborn as sns\n",
    "\n",
    "import statsmodels.formula.api as smf\n",
    "import statsmodels.tsa.api as smt\n",
    "import statsmodels.api as sm\n",
    "import scipy.stats as scs\n",
    "\n",
    "from statsmodels.tsa.arima_model import ARIMA\n",
    "import itertools\n",
    "\n",
    "import warnings\n",
    "warnings.simplefilter('ignore')\n",
    "\n",
    "from sklearn.metrics import mean_absolute_error, mean_squared_error, r2_score"
   ]
  },
  {
   "cell_type": "code",
   "execution_count": 2,
   "metadata": {},
   "outputs": [
    {
     "data": {
      "text/html": [
       "<div>\n",
       "<style scoped>\n",
       "    .dataframe tbody tr th:only-of-type {\n",
       "        vertical-align: middle;\n",
       "    }\n",
       "\n",
       "    .dataframe tbody tr th {\n",
       "        vertical-align: top;\n",
       "    }\n",
       "\n",
       "    .dataframe thead th {\n",
       "        text-align: right;\n",
       "    }\n",
       "</style>\n",
       "<table border=\"1\" class=\"dataframe\">\n",
       "  <thead>\n",
       "    <tr style=\"text-align: right;\">\n",
       "      <th></th>\n",
       "      <th>PJME_MW</th>\n",
       "      <th>year</th>\n",
       "      <th>month</th>\n",
       "      <th>dayofmonth</th>\n",
       "      <th>quarter</th>\n",
       "      <th>dayofyear</th>\n",
       "      <th>weekofyear</th>\n",
       "      <th>dayofweek</th>\n",
       "      <th>hour</th>\n",
       "      <th>is_holiday</th>\n",
       "      <th>is_prev_holiday</th>\n",
       "      <th>is_next_holiday</th>\n",
       "    </tr>\n",
       "    <tr>\n",
       "      <th>Date</th>\n",
       "      <th></th>\n",
       "      <th></th>\n",
       "      <th></th>\n",
       "      <th></th>\n",
       "      <th></th>\n",
       "      <th></th>\n",
       "      <th></th>\n",
       "      <th></th>\n",
       "      <th></th>\n",
       "      <th></th>\n",
       "      <th></th>\n",
       "      <th></th>\n",
       "    </tr>\n",
       "  </thead>\n",
       "  <tbody>\n",
       "    <tr>\n",
       "      <th>2002-01-31</th>\n",
       "      <td>31075.399731</td>\n",
       "      <td>2002.0</td>\n",
       "      <td>1.0</td>\n",
       "      <td>16.020188</td>\n",
       "      <td>1.0</td>\n",
       "      <td>16.020188</td>\n",
       "      <td>2.873486</td>\n",
       "      <td>2.905787</td>\n",
       "      <td>11.515478</td>\n",
       "      <td>0.063257</td>\n",
       "      <td>0.032301</td>\n",
       "      <td>0.064603</td>\n",
       "    </tr>\n",
       "    <tr>\n",
       "      <th>2002-02-28</th>\n",
       "      <td>30239.166667</td>\n",
       "      <td>2002.0</td>\n",
       "      <td>2.0</td>\n",
       "      <td>14.500000</td>\n",
       "      <td>1.0</td>\n",
       "      <td>45.500000</td>\n",
       "      <td>7.071429</td>\n",
       "      <td>3.000000</td>\n",
       "      <td>11.500000</td>\n",
       "      <td>0.035714</td>\n",
       "      <td>0.035714</td>\n",
       "      <td>0.035714</td>\n",
       "    </tr>\n",
       "    <tr>\n",
       "      <th>2002-03-31</th>\n",
       "      <td>28875.256720</td>\n",
       "      <td>2002.0</td>\n",
       "      <td>3.0</td>\n",
       "      <td>16.000000</td>\n",
       "      <td>1.0</td>\n",
       "      <td>75.000000</td>\n",
       "      <td>11.258065</td>\n",
       "      <td>3.193548</td>\n",
       "      <td>11.500000</td>\n",
       "      <td>0.000000</td>\n",
       "      <td>0.000000</td>\n",
       "      <td>0.000000</td>\n",
       "    </tr>\n",
       "    <tr>\n",
       "      <th>2002-04-30</th>\n",
       "      <td>28534.731572</td>\n",
       "      <td>2002.0</td>\n",
       "      <td>4.0</td>\n",
       "      <td>15.511822</td>\n",
       "      <td>2.0</td>\n",
       "      <td>105.511822</td>\n",
       "      <td>15.668985</td>\n",
       "      <td>2.828929</td>\n",
       "      <td>11.511822</td>\n",
       "      <td>0.000000</td>\n",
       "      <td>0.000000</td>\n",
       "      <td>0.000000</td>\n",
       "    </tr>\n",
       "    <tr>\n",
       "      <th>2002-05-31</th>\n",
       "      <td>28073.653226</td>\n",
       "      <td>2002.0</td>\n",
       "      <td>5.0</td>\n",
       "      <td>16.000000</td>\n",
       "      <td>2.0</td>\n",
       "      <td>136.000000</td>\n",
       "      <td>20.000000</td>\n",
       "      <td>3.000000</td>\n",
       "      <td>11.500000</td>\n",
       "      <td>0.032258</td>\n",
       "      <td>0.032258</td>\n",
       "      <td>0.032258</td>\n",
       "    </tr>\n",
       "  </tbody>\n",
       "</table>\n",
       "</div>"
      ],
      "text/plain": [
       "                 PJME_MW    year  month  dayofmonth  quarter   dayofyear  \\\n",
       "Date                                                                       \n",
       "2002-01-31  31075.399731  2002.0    1.0   16.020188      1.0   16.020188   \n",
       "2002-02-28  30239.166667  2002.0    2.0   14.500000      1.0   45.500000   \n",
       "2002-03-31  28875.256720  2002.0    3.0   16.000000      1.0   75.000000   \n",
       "2002-04-30  28534.731572  2002.0    4.0   15.511822      2.0  105.511822   \n",
       "2002-05-31  28073.653226  2002.0    5.0   16.000000      2.0  136.000000   \n",
       "\n",
       "            weekofyear  dayofweek       hour  is_holiday  is_prev_holiday  \\\n",
       "Date                                                                        \n",
       "2002-01-31    2.873486   2.905787  11.515478    0.063257         0.032301   \n",
       "2002-02-28    7.071429   3.000000  11.500000    0.035714         0.035714   \n",
       "2002-03-31   11.258065   3.193548  11.500000    0.000000         0.000000   \n",
       "2002-04-30   15.668985   2.828929  11.511822    0.000000         0.000000   \n",
       "2002-05-31   20.000000   3.000000  11.500000    0.032258         0.032258   \n",
       "\n",
       "            is_next_holiday  \n",
       "Date                         \n",
       "2002-01-31         0.064603  \n",
       "2002-02-28         0.035714  \n",
       "2002-03-31         0.000000  \n",
       "2002-04-30         0.000000  \n",
       "2002-05-31         0.032258  "
      ]
     },
     "execution_count": 2,
     "metadata": {},
     "output_type": "execute_result"
    }
   ],
   "source": [
    "Path_Energy = 'my_PJME_MW.csv'\n",
    "data = pd.read_csv(Path_Energy, index_col=[0], parse_dates=[0])\n",
    "data_m = data.resample('M').mean()\n",
    "data_m.head()"
   ]
  },
  {
   "cell_type": "code",
   "execution_count": 3,
   "metadata": {},
   "outputs": [
    {
     "data": {
      "image/png": "[encoded data removed]",
      "text/plain": [
       "<Figure size 432x288 with 1 Axes>"
      ]
     },
     "metadata": {
      "needs_background": "light"
     },
     "output_type": "display_data"
    },
    {
     "data": {
      "image/png": "[encoded data removed]",
      "text/plain": [
       "<Figure size 432x288 with 1 Axes>"
      ]
     },
     "metadata": {
      "needs_background": "light"
     },
     "output_type": "display_data"
    }
   ],
   "source": [
    "sm.graphics.tsa.plot_acf(data_m['PJME_MW'].values, lags=12)\n",
    "plt.show()\n",
    "\n",
    "sm.graphics.tsa.plot_pacf(data_m['PJME_MW'].values, lags=12)\n",
    "plt.show()"
   ]
  },
  {
   "cell_type": "code",
   "execution_count": 4,
   "metadata": {},
   "outputs": [
    {
     "name": "stdout",
     "output_type": "stream",
     "text": [
      "Examples of parameter combinations for Seasonal ARIMA are:\n",
      "SARIMAX: (0, 0, 1) x (0, 0, 1, 12)\n",
      "SARIMAX: (0, 0, 1) x (0, 0, 2, 12)\n",
      "SARIMAX: (0, 0, 2) x (0, 1, 0, 12)\n",
      "SARIMAX: (0, 0, 2) x (0, 1, 1, 12)\n"
     ]
    }
   ],
   "source": [
    "p = d = q = range(0, 3)\n",
    "pdq = list(itertools.product(p, d, q))\n",
    "seasonal_pdq = [(x[0], x[1], x[2], 12) for x in list(itertools.product(p, d, q))]\n",
    "print('Examples of parameter combinations for Seasonal ARIMA are:')\n",
    "print('SARIMAX: {} x {}'.format(pdq[1], seasonal_pdq[1]))\n",
    "print('SARIMAX: {} x {}'.format(pdq[1], seasonal_pdq[2]))\n",
    "print('SARIMAX: {} x {}'.format(pdq[2], seasonal_pdq[3]))\n",
    "print('SARIMAX: {} x {}'.format(pdq[2], seasonal_pdq[4]))"
   ]
  },
  {
   "cell_type": "code",
   "execution_count": 5,
   "metadata": {},
   "outputs": [
    {
     "name": "stdout",
     "output_type": "stream",
     "text": [
      "Best parametrs ARIMA(1, 1, 2)x(1, 2, 2, 12)3 - AIC:2226.14\n"
     ]
    }
   ],
   "source": [
    "best_param =[]\n",
    "best_seasonal = []\n",
    "best_AIC = 9999999\n",
    "for param in pdq:\n",
    "    for param_seasonal in seasonal_pdq:\n",
    "        try:\n",
    "            mod = sm.tsa.statespace.SARIMAX(data_m['PJME_MW'].values[:-24],order=param,\n",
    "                                    seasonal_order=param_seasonal,\n",
    "                                    enforce_stationarity=False,\n",
    "                                    enforce_invertibility=False)\n",
    "\n",
    "            results = mod.fit()\n",
    "            if results.aic < best_AIC:\n",
    "                best_AIC = results.aic\n",
    "                best_param = param\n",
    "                best_seasonal = param_seasonal\n",
    "        except:\n",
    "            continue\n",
    "print(f'Best parametrs ARIMA{best_param}x{best_seasonal}3 - AIC:{best_AIC:.2f}')"
   ]
  },
  {
   "cell_type": "code",
   "execution_count": 6,
   "metadata": {},
   "outputs": [
    {
     "name": "stdout",
     "output_type": "stream",
     "text": [
      "AIC: 2438.82\n"
     ]
    }
   ],
   "source": [
    "mod = sm.tsa.statespace.SARIMAX(data_m['PJME_MW'].values[:-12],order=[1,1,2],\n",
    "                                seasonal_order=[1,2,2,12] ,\n",
    "                                enforce_stationarity=False,\n",
    "                                enforce_invertibility=False)\n",
    "results_opt = mod.fit()\n",
    "print(f'AIC: {results_opt.aic:.2f}')"
   ]
  },
  {
   "cell_type": "code",
   "execution_count": 7,
   "metadata": {},
   "outputs": [
    {
     "data": {
      "image/png": "[encoded data removed]",
      "text/plain": [
       "<Figure size 432x288 with 1 Axes>"
      ]
     },
     "metadata": {
      "needs_background": "light"
     },
     "output_type": "display_data"
    }
   ],
   "source": [
    "pred_dynamic_opt = results_opt.forecast(48)\n",
    "\n",
    "\n",
    "plt.plot(pred_dynamic_opt,'g', label='predict_opt' )\n",
    "plt.plot(data_m['PJME_MW'].values[-12:],'or',label='true')\n",
    "plt.title('Предсказание последних точек ряда  и следующих 3 лет ряда')\n",
    "plt.legend()\n",
    "\n",
    "plt.show()"
   ]
  },
  {
   "cell_type": "markdown",
   "metadata": {},
   "source": [
    "Месячная модель дает лучшие результаты по сравнению с недельной"
   ]
  },
  {
   "cell_type": "code",
   "execution_count": null,
   "metadata": {},
   "outputs": [],
   "source": []
  }
 ],
 "metadata": {
  "kernelspec": {
   "display_name": "Python 3",
   "language": "python",
   "name": "python3"
  },
  "language_info": {
   "codemirror_mode": {
    "name": "ipython",
    "version": 3
   },
   "file_extension": ".py",
   "mimetype": "text/x-python",
   "name": "python",
   "nbconvert_exporter": "python",
   "pygments_lexer": "ipython3",
   "version": "3.7.1"
  }
 },
 "nbformat": 4,
 "nbformat_minor": 2
}
